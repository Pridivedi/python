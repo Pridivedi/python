{
 "cells": [
  {
   "cell_type": "code",
   "execution_count": 3,
   "id": "2a75a6f4-009f-42c8-b063-05a7754d0d28",
   "metadata": {},
   "outputs": [
    {
     "name": "stdout",
     "output_type": "stream",
     "text": [
      "Hello AAFT\n"
     ]
    }
   ],
   "source": [
    "print(\"Hello AAFT\")"
   ]
  },
  {
   "cell_type": "code",
   "execution_count": 5,
   "id": "f9e9018a-ce53-4eb7-b430-c48bc6c8b260",
   "metadata": {},
   "outputs": [
    {
     "name": "stdout",
     "output_type": "stream",
     "text": [
      "Hello,AAFT\n"
     ]
    }
   ],
   "source": [
    "a='Hello,AAFT'\n",
    "print(a)"
   ]
  },
  {
   "cell_type": "code",
   "execution_count": 7,
   "id": "ec7f0762-9b89-454f-a48b-86dbdca704e7",
   "metadata": {},
   "outputs": [
    {
     "name": "stdout",
     "output_type": "stream",
     "text": [
      " Himanshu is naughty boy.\n",
      "Yash is not saying anything.\n",
      "Gungun is not practicing Python.\n"
     ]
    }
   ],
   "source": [
    "b=\"\"\" Himanshu is naughty boy.\n",
    "Yash is not saying anything.\n",
    "Gungun is not practicing Python.\"\"\"\n",
    "     \n",
    "print(b)"
   ]
  },
  {
   "cell_type": "code",
   "execution_count": 9,
   "id": "373c4285-b065-406e-8d1f-d8c38578fde3",
   "metadata": {},
   "outputs": [
    {
     "name": "stdout",
     "output_type": "stream",
     "text": [
      "e\n"
     ]
    }
   ],
   "source": [
    "print(a[1])"
   ]
  },
  {
   "cell_type": "code",
   "execution_count": 11,
   "id": "5c50ee29-0c18-467d-900a-9dbc7ce8ce33",
   "metadata": {},
   "outputs": [
    {
     "name": "stdout",
     "output_type": "stream",
     "text": [
      "3\n"
     ]
    }
   ],
   "source": [
    "s1= \"aaft aaft aaft sods\"\n",
    "x=s1.count(\"aaft\")\n",
    "print(x)"
   ]
  },
  {
   "cell_type": "code",
   "execution_count": 13,
   "id": "036ed65b-f703-4f6c-9174-c3d5cc318a58",
   "metadata": {},
   "outputs": [
    {
     "name": "stdout",
     "output_type": "stream",
     "text": [
      "15\n"
     ]
    }
   ],
   "source": [
    "s1= \"aaft aaft aaft sods\"\n",
    "y=s1.find(\"sods\")\n",
    "print(y)"
   ]
  },
  {
   "cell_type": "code",
   "execution_count": 15,
   "id": "69870f8b-2c8c-46b7-8064-b9fa4ae8c80d",
   "metadata": {},
   "outputs": [
    {
     "name": "stdout",
     "output_type": "stream",
     "text": [
      "-1\n"
     ]
    }
   ],
   "source": [
    "s1= \"aaft aaft aaft sods\"\n",
    "y=s1.find(\"soa\")\n",
    "print(y)"
   ]
  },
  {
   "cell_type": "code",
   "execution_count": 17,
   "id": "554fa53e-493f-4c3d-addd-4c1b3708754b",
   "metadata": {},
   "outputs": [
    {
     "name": "stdout",
     "output_type": "stream",
     "text": [
      "('Python is ', 'case', ' sensitive language')\n"
     ]
    }
   ],
   "source": [
    "s2=\"Python is case sensitive language\"\n",
    "z=s2.partition(\"case\")\n",
    "print(z)"
   ]
  },
  {
   "cell_type": "code",
   "execution_count": 19,
   "id": "bec8be9b-a12c-44d5-aa7d-873bec5824cd",
   "metadata": {},
   "outputs": [
    {
     "name": "stdout",
     "output_type": "stream",
     "text": [
      "['Python', 'is', 'case', 'sensitive', 'language']\n"
     ]
    }
   ],
   "source": [
    "s2=\"Python is case sensitive language\"\n",
    "z=s2.split()\n",
    "print(z)"
   ]
  },
  {
   "cell_type": "code",
   "execution_count": 21,
   "id": "211bb786-a504-4bf6-8a33-87f00a140dbf",
   "metadata": {},
   "outputs": [
    {
     "name": "stdout",
     "output_type": "stream",
     "text": [
      "John,Peter,Vicky\n"
     ]
    }
   ],
   "source": [
    "myTuple = (\"John\", \"Peter\", \"Vicky\")\n",
    "\n",
    "x = \",\".join(myTuple)\n",
    "\n",
    "print(x)"
   ]
  }
 ],
 "metadata": {
  "kernelspec": {
   "display_name": "Python 3 (ipykernel)",
   "language": "python",
   "name": "python3"
  },
  "language_info": {
   "codemirror_mode": {
    "name": "ipython",
    "version": 3
   },
   "file_extension": ".py",
   "mimetype": "text/x-python",
   "name": "python",
   "nbconvert_exporter": "python",
   "pygments_lexer": "ipython3",
   "version": "3.12.4"
  }
 },
 "nbformat": 4,
 "nbformat_minor": 5
}
