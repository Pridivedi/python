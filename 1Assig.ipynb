{
 "cells": [
  {
   "cell_type": "code",
   "execution_count": 7,
   "id": "d588538f-59a1-4515-bdde-8c825dc024d3",
   "metadata": {},
   "outputs": [
    {
     "name": "stdout",
     "output_type": "stream",
     "text": [
      "[7, 2, 3, 4, 5, 6, 1]\n"
     ]
    }
   ],
   "source": [
    "#Write a Program to interchange first and last elements in a list\n",
    "\n",
    "list = [1,2,3,4,5,6,7]\n",
    "list[0],list[-1]=list[-1],list[0]\n",
    "print(list)"
   ]
  },
  {
   "cell_type": "code",
   "execution_count": 9,
   "id": "3784e24f-b729-4fcd-af59-6c48434e2f0f",
   "metadata": {},
   "outputs": [
    {
     "name": "stdout",
     "output_type": "stream",
     "text": [
      "[10, 20, 30, 40, 50]\n"
     ]
    }
   ],
   "source": [
    "#Program to swap two elements in a list\n",
    "\n",
    "my_list = [10, 20, 30, 40, 50]\n",
    "list[0],list[-1]=list[-1],list[0]\n",
    "print(my_list)"
   ]
  },
  {
   "cell_type": "code",
   "execution_count": 11,
   "id": "71e3db48-5935-4218-8bce-4a522dddf809",
   "metadata": {},
   "outputs": [
    {
     "name": "stdout",
     "output_type": "stream",
     "text": [
      "['date', 'banana', 'cherry', 'apple']\n"
     ]
    }
   ],
   "source": [
    "#Swap elements in String list\n",
    "my_list = [\"apple\", \"banana\", \"cherry\", \"date\"]\n",
    "my_list[0],my_list[-1]=my_list[-1],my_list[0]\n",
    "print(my_list)"
   ]
  },
  {
   "cell_type": "code",
   "execution_count": null,
   "id": "6d4f69a1-5db0-4b89-8289-2018761de742",
   "metadata": {},
   "outputs": [],
   "source": []
  },
  {
   "cell_type": "code",
   "execution_count": null,
   "id": "3bfba65d-65c6-410c-b1d1-587a38d98f9c",
   "metadata": {},
   "outputs": [],
   "source": [
    "\n",
    "a = [5]\n",
    "b = [6] \n",
    "a,b = b,a\n",
    "print(a)\n",
    "print(b)"
   ]
  },
  {
   "cell_type": "code",
   "execution_count": 13,
   "id": "da2c0e7f-1fac-4f93-8365-f8bbf5585418",
   "metadata": {},
   "outputs": [
    {
     "name": "stdout",
     "output_type": "stream",
     "text": [
      "7\n"
     ]
    }
   ],
   "source": [
    "#Ways to find length of list\n",
    "list = [1,2,3,4,5,6,7]\n",
    "length = len(list)\n",
    "print(length)"
   ]
  },
  {
   "cell_type": "code",
   "execution_count": 15,
   "id": "286f1473-4595-443a-aba8-d7a8e1307b7c",
   "metadata": {},
   "outputs": [
    {
     "name": "stdout",
     "output_type": "stream",
     "text": [
      "5\n"
     ]
    }
   ],
   "source": [
    "# Way 2\n",
    "list1= [1, 2, 3, 4, 5]\n",
    "length = sum(1 for _ in list1)\n",
    "print(length)"
   ]
  },
  {
   "cell_type": "code",
   "execution_count": 5,
   "id": "ab4d0db8-7825-4dd0-9385-d4a3fa35a725",
   "metadata": {},
   "outputs": [
    {
     "name": "stdout",
     "output_type": "stream",
     "text": [
      "85\n"
     ]
    }
   ],
   "source": [
    "# Maximum of two numbers in Python\n",
    "a = 85\n",
    "b = 55\n",
    "\n",
    "if a > b:\n",
    "    print(a)\n",
    "else:\n",
    "    print(b)"
   ]
  },
  {
   "cell_type": "code",
   "execution_count": 1,
   "id": "7fc0d74d-9137-4c97-9e78-ddb82d9401a0",
   "metadata": {},
   "outputs": [
    {
     "name": "stdout",
     "output_type": "stream",
     "text": [
      "20\n"
     ]
    }
   ],
   "source": [
    "# Maximum of two numbers in Python\n",
    "a = 10\n",
    "b = 20\n",
    "\n",
    "if a > b:\n",
    "    print(a)\n",
    "else:\n",
    "    print(b)"
   ]
  },
  {
   "cell_type": "code",
   "execution_count": 17,
   "id": "8bc619c5-80bd-4e55-b3b7-7ebdd16a1ad9",
   "metadata": {},
   "outputs": [
    {
     "name": "stdout",
     "output_type": "stream",
     "text": [
      "25\n"
     ]
    }
   ],
   "source": [
    "#Minimum of two numbers in Python\n",
    "a = 25\n",
    "b = 30\n",
    "if a < b:\n",
    "    print(a)\n",
    "else:\n",
    "    print(b)"
   ]
  },
  {
   "cell_type": "code",
   "execution_count": 23,
   "id": "b94805e6-a586-4d5d-8ed6-72c423f426a0",
   "metadata": {},
   "outputs": [
    {
     "name": "stdout",
     "output_type": "stream",
     "text": [
      "2 does not exist in the list.\n"
     ]
    }
   ],
   "source": [
    "#Ways to check if element exists in list\n",
    "a = [2,4,6,8,10,12]\n",
    "element = 2\n",
    "\n",
    "if element in my_list:\n",
    "    print(f\"{element} exists in the list.\")\n",
    "else:\n",
    "    print(f\"{element} does not exist in the list.\")"
   ]
  },
  {
   "cell_type": "code",
   "execution_count": 27,
   "id": "7e6431eb-1278-40c1-801e-9dcc793eab35",
   "metadata": {},
   "outputs": [
    {
     "name": "stdout",
     "output_type": "stream",
     "text": [
      "Element exists in the list\n"
     ]
    }
   ],
   "source": [
    "#ways to check if element exists in list\n",
    "a = [1, 2, 3, 4, 5]\n",
    "a.count(3)\n",
    "# Way 2\n",
    "if 3 in a:\n",
    "    print(\"Element exists in the list\")\n",
    "else:\n",
    "    print(\"Element does not exist in the list\")"
   ]
  },
  {
   "cell_type": "code",
   "execution_count": 31,
   "id": "00872ee7-15a9-436a-a9b1-36c513323c3d",
   "metadata": {},
   "outputs": [
    {
     "name": "stdout",
     "output_type": "stream",
     "text": [
      "[]\n",
      "[]\n",
      "[]\n"
     ]
    }
   ],
   "source": [
    "# Q8.Different ways to clear list in python\n",
    "list = [11, 22, 33, 44, 55]\n",
    "# Way 1\n",
    "list.clear()\n",
    "print(list)\n",
    "# Way 2\n",
    "#del list[:]\n",
    "print(list)\n",
    "# Way 3\n",
    "#list.remove()\n",
    "print(list)\n"
   ]
  },
  {
   "cell_type": "code",
   "execution_count": 33,
   "id": "7f283ada-8444-4d9b-a499-d3bcb7064914",
   "metadata": {},
   "outputs": [
    {
     "name": "stdout",
     "output_type": "stream",
     "text": [
      "[5, 4, 3, 2, 1]\n",
      "[5, 4, 3, 2, 1]\n"
     ]
    }
   ],
   "source": [
    "#9. Reversing a list\n",
    "list = [1, 2, 3, 4, 5]\n",
    "# Way 1\n",
    "list.reverse()\n",
    "print(list)\n",
    "# Way 2\n",
    "list.sort(reverse=True)\n",
    "print(list)"
   ]
  },
  {
   "cell_type": "code",
   "execution_count": 43,
   "id": "9655c069-5575-42fc-8304-16956328d057",
   "metadata": {},
   "outputs": [
    {
     "name": "stdout",
     "output_type": "stream",
     "text": [
      "[1, 2, 3, 4, 5]\n",
      "[1, 2, 3, 4, 5]\n"
     ]
    }
   ],
   "source": [
    "# Q10. cloning or copying a list\n",
    "list = [1, 2, 3, 4, 5]\n",
    "# Way 1\n",
    "list= list.copy()\n",
    "print(list)\n",
    "# Way 2\n",
    "new_list = list[:]\n",
    "print(new_list)\n"
   ]
  },
  {
   "cell_type": "code",
   "execution_count": 47,
   "id": "5da7fd01-af27-4760-a070-4a81157fee1b",
   "metadata": {},
   "outputs": [
    {
     "data": {
      "text/plain": [
       "2"
      ]
     },
     "execution_count": 47,
     "metadata": {},
     "output_type": "execute_result"
    }
   ],
   "source": [
    "# Q11. count occurences of an element in a list\n",
    "l1 = [1, 2, 3, 4, 3, 5]\n",
    "l1.count(3)"
   ]
  },
  {
   "cell_type": "code",
   "execution_count": 51,
   "id": "73a56f8c-e63b-4b3b-a759-5b49748516dc",
   "metadata": {},
   "outputs": [
    {
     "name": "stdout",
     "output_type": "stream",
     "text": [
      "16\n",
      "3.2\n"
     ]
    }
   ],
   "source": [
    "# Q12. Program to find sum and average of a list in python\n",
    "l1 = [1, 2, 3, 4, 6]\n",
    "sum = l1[0] + l1[1] + l1[2] + l1[3] + l1[4]\n",
    "average = sum / len(l1)\n",
    "print(sum)\n",
    "print(average)\n"
   ]
  },
  {
   "cell_type": "code",
   "execution_count": 55,
   "id": "379e4aaa-fd3d-4726-a768-aed4d68f7c79",
   "metadata": {},
   "outputs": [
    {
     "name": "stdout",
     "output_type": "stream",
     "text": [
      "The sum of the digits in the list is: 48\n"
     ]
    }
   ],
   "source": [
    "# Q13. sum of number digits in list\n",
    "\n",
    "l1 = [223, 556, 889]\n",
    "\n",
    "# Function to calculate the sum of digits\n",
    "def sum_of_digits(numbers):\n",
    "    total_sum = 0\n",
    "    for number in numbers:\n",
    "        # Convert the number to string and iterate through each digit\n",
    "        for digit in str(number):\n",
    "            total_sum += int(digit)  # Convert digit back to int and add to total_sum\n",
    "    return total_sum\n",
    "\n",
    "# Calculate the sum of digits in the list\n",
    "result = sum_of_digits(l1)\n",
    "\n",
    "# Print the result\n",
    "print(\"The sum of the digits in the list is:\", result)"
   ]
  },
  {
   "cell_type": "code",
   "execution_count": 57,
   "id": "83643717-7cac-44c8-9fa2-3c95902c0cf8",
   "metadata": {},
   "outputs": [
    {
     "name": "stdout",
     "output_type": "stream",
     "text": [
      "12000000\n"
     ]
    }
   ],
   "source": [
    "# Q14. Multiply all numbers in list\n",
    "l1=[10,20,30,40,50]\n",
    "list=l1[0]*l1[1]*l1[2]*l1[3]*l1[4]\n",
    "print(list)"
   ]
  },
  {
   "cell_type": "code",
   "execution_count": 59,
   "id": "f8140384-4a8d-430d-b684-92992c19a24f",
   "metadata": {},
   "outputs": [
    {
     "name": "stdout",
     "output_type": "stream",
     "text": [
      "2.5\n",
      "2.5\n"
     ]
    }
   ],
   "source": [
    "# Q15. program to find smallest number in list\n",
    "# Way 1\n",
    "l1=[15,2.5,30,42,50]\n",
    "list=min(l1)\n",
    "print(list)\n",
    "# Way 2\n",
    "list1=sorted(l1)\n",
    "print(list1[0])"
   ]
  },
  {
   "cell_type": "code",
   "execution_count": 61,
   "id": "a28a5fe7-7441-4d7d-a39c-087d3e0d6625",
   "metadata": {},
   "outputs": [
    {
     "name": "stdout",
     "output_type": "stream",
     "text": [
      "15\n",
      "15\n"
     ]
    }
   ],
   "source": [
    "# Q16.program to find largest number in list\n",
    "# Way 1\n",
    "l1=[11,12,13,14,15]\n",
    "x=max(l1)\n",
    "print(x)\n",
    "# Way 2\n",
    "y=sorted(l1)\n",
    "print(y[-1])"
   ]
  },
  {
   "cell_type": "code",
   "execution_count": 65,
   "id": "ce1c1414-62fe-4bca-9e2a-f75b1e0cae26",
   "metadata": {},
   "outputs": [
    {
     "name": "stdout",
     "output_type": "stream",
     "text": [
      "4\n"
     ]
    }
   ],
   "source": [
    "# Q17. program to find second largest number in list\n",
    "list=[1,2,3,4,5]\n",
    "list.sort()\n",
    "print(list[-2])"
   ]
  },
  {
   "cell_type": "code",
   "execution_count": null,
   "id": "6638900f-b5dc-42ac-a143-b14739326267",
   "metadata": {},
   "outputs": [],
   "source": []
  },
  {
   "cell_type": "code",
   "execution_count": 5,
   "id": "22283eb3-722a-4e91-bca4-5ce2f576d1f1",
   "metadata": {},
   "outputs": [
    {
     "name": "stdout",
     "output_type": "stream",
     "text": [
      "2\n",
      "4\n"
     ]
    }
   ],
   "source": [
    "# Q18. program to print even numbers in list\n",
    "list=[1,2,3,4,5]\n",
    "for x in list:\n",
    "    if x%2==0:\n",
    "        print(x)"
   ]
  },
  {
   "cell_type": "code",
   "execution_count": 3,
   "id": "151324f2-1bf1-4e20-a1be-208b15df7ce4",
   "metadata": {},
   "outputs": [
    {
     "name": "stdout",
     "output_type": "stream",
     "text": [
      "1\n",
      "3\n",
      "5\n"
     ]
    }
   ],
   "source": [
    "# Q19. program to print odd numbers in list\n",
    "list=[1,2,3,4,5]\n",
    "for x in list:\n",
    "    if x%2!=0:\n",
    "        print(x)"
   ]
  },
  {
   "cell_type": "code",
   "execution_count": 7,
   "id": "8adc1853-b798-465c-80a9-5189eafbbd41",
   "metadata": {},
   "outputs": [
    {
     "name": "stdout",
     "output_type": "stream",
     "text": [
      "2\n",
      "4\n",
      "6\n",
      "8\n"
     ]
    }
   ],
   "source": [
    "# Q20. program to print all even numbers in a range\n",
    "for x in range(1,10):\n",
    "    if x%2==0:\n",
    "        print(x)"
   ]
  },
  {
   "cell_type": "code",
   "execution_count": 9,
   "id": "edafa7a5-5a62-4dbb-9905-9d74e173ec88",
   "metadata": {},
   "outputs": [
    {
     "name": "stdout",
     "output_type": "stream",
     "text": [
      "1\n",
      "3\n",
      "5\n",
      "7\n",
      "9\n"
     ]
    }
   ],
   "source": [
    "# Q21. program to print all add numbers in a range\n",
    "for x in range(1,10):\n",
    "    if x%2!=0:\n",
    "        print(x)"
   ]
  },
  {
   "cell_type": "code",
   "execution_count": 13,
   "id": "6b6febf9-5439-43bc-9941-7a73ee405950",
   "metadata": {},
   "outputs": [
    {
     "name": "stdout",
     "output_type": "stream",
     "text": [
      "2\n",
      "3\n"
     ]
    }
   ],
   "source": [
    "# Q22. program to count even and odd numbers in a list\n",
    "list=[1,2,3,4,5]\n",
    "even=0\n",
    "odd=0\n",
    "for x in list:\n",
    "    if x%2==0:\n",
    "        even+=1\n",
    "    else:\n",
    "        odd+=1\n",
    "print(even)\n",
    "print(odd)\n"
   ]
  },
  {
   "cell_type": "code",
   "execution_count": 17,
   "id": "74d0c8c7-2dc1-422c-b449-d64cf549678a",
   "metadata": {},
   "outputs": [
    {
     "name": "stdout",
     "output_type": "stream",
     "text": [
      "1\n",
      "2\n",
      "3\n",
      "4\n",
      "5\n"
     ]
    }
   ],
   "source": [
    "# Q23.program to print positive numbers in list\n",
    "list=[1,2,3,4,5]\n",
    "for x in list:\n",
    "    if x>0:\n",
    "        print(x)"
   ]
  },
  {
   "cell_type": "code",
   "execution_count": 19,
   "id": "0b00dd65-ae1c-4ab6-8238-d1c360c1a7b6",
   "metadata": {},
   "outputs": [],
   "source": [
    "# Q24.program to print negative numbers in list\n",
    "list=[1,2,3,4,5]\n",
    "for list in list:\n",
    "    if i<0:\n",
    "        print(i)"
   ]
  },
  {
   "cell_type": "code",
   "execution_count": 21,
   "id": "f8be1c48-7ac5-47aa-846b-d6c7abd3f408",
   "metadata": {},
   "outputs": [
    {
     "name": "stdout",
     "output_type": "stream",
     "text": [
      "1\n",
      "2\n",
      "3\n",
      "4\n",
      "5\n",
      "6\n",
      "7\n",
      "8\n",
      "9\n"
     ]
    }
   ],
   "source": [
    "# Q25. program to print all positive numbers in a range\n",
    "for p in range(1,10):\n",
    "    if p>0:\n",
    "        print(p)"
   ]
  },
  {
   "cell_type": "code",
   "execution_count": 25,
   "id": "401c0869-8524-4d2e-b87c-c2686fa2acd5",
   "metadata": {},
   "outputs": [],
   "source": [
    "# Q26. program to print all nagative numbers in a range\n",
    "for n in range(1,10):\n",
    "    if n<0:\n",
    "        print(n)"
   ]
  },
  {
   "cell_type": "code",
   "execution_count": 27,
   "id": "7ed30dd8-173a-44c1-a430-395d3f50ce5f",
   "metadata": {},
   "outputs": [
    {
     "name": "stdout",
     "output_type": "stream",
     "text": [
      "5\n",
      "0\n"
     ]
    }
   ],
   "source": [
    "# Q27. program to count positive and negative numbers in a list\n",
    "list=[1,2,3,4,5]\n",
    "positive=0\n",
    "negative=0\n",
    "for i in list:\n",
    "    if i>0:\n",
    "        positive+=1\n",
    "    else:\n",
    "        negative+=1\n",
    "print(positive)\n",
    "print(negative)"
   ]
  },
  {
   "cell_type": "code",
   "execution_count": 29,
   "id": "f153523b-e89d-47f9-81d1-5d9019eb4555",
   "metadata": {},
   "outputs": [
    {
     "name": "stdout",
     "output_type": "stream",
     "text": [
      "[2, 4, 3, 1]\n"
     ]
    }
   ],
   "source": [
    "# Q28. remove multiple elements from a list\n",
    "list = [1, 2, 3, 4, 3,1]\n",
    "for i in list:\n",
    "    if list.count(i)>1:\n",
    "        list.remove(i)\n",
    "print(list)"
   ]
  },
  {
   "cell_type": "code",
   "execution_count": 35,
   "id": "b217e7e0-1b72-42d4-8aa9-acd4632d9683",
   "metadata": {},
   "outputs": [
    {
     "name": "stdout",
     "output_type": "stream",
     "text": [
      "[(1, 2), (3, 4), (5, 6)]\n"
     ]
    }
   ],
   "source": [
    "# Q29. remove empty tuples from a list\n",
    "# Way 1\n",
    "l1 = [(1, 2), (), (3, 4), (), (5, 6)]\n",
    "l1 = [t for t in l1 if t]\n",
    "print(l1)\n",
    "# Way 2\n"
   ]
  },
  {
   "cell_type": "code",
   "execution_count": 37,
   "id": "f8fe57d3-f3a7-4b55-bb62-9c801e4d49f8",
   "metadata": {},
   "outputs": [
    {
     "name": "stdout",
     "output_type": "stream",
     "text": [
      "1\n",
      "1\n",
      "2\n",
      "2\n",
      "3\n",
      "4\n",
      "4\n",
      "3\n",
      "5\n",
      "5\n",
      "1\n",
      "2\n",
      "4\n",
      "3\n",
      "5\n"
     ]
    }
   ],
   "source": [
    "# Q30. print duplicates from a list of integers\n",
    "l1=[1,1,2,2,3,4,4,3,5,5,6]\n",
    "for i in l1:\n",
    "    if l1.count(i)>1:\n",
    "        print(i)\n",
    "# Way 2\n",
    "l1=[1,1,2,2,3,4,4,3,5,5,6]\n",
    "l2=[]\n",
    "for i in l1:\n",
    "    if i not in l2:\n",
    "        l2.append(i)\n",
    "    else:\n",
    "        print(i)"
   ]
  },
  {
   "cell_type": "code",
   "execution_count": null,
   "id": "d7c1a873-130c-431d-8d36-806a89fb60d9",
   "metadata": {},
   "outputs": [],
   "source": []
  }
 ],
 "metadata": {
  "kernelspec": {
   "display_name": "Python 3 (ipykernel)",
   "language": "python",
   "name": "python3"
  },
  "language_info": {
   "codemirror_mode": {
    "name": "ipython",
    "version": 3
   },
   "file_extension": ".py",
   "mimetype": "text/x-python",
   "name": "python",
   "nbconvert_exporter": "python",
   "pygments_lexer": "ipython3",
   "version": "3.12.4"
  }
 },
 "nbformat": 4,
 "nbformat_minor": 5
}
